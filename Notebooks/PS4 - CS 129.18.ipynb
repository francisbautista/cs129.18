{
 "cells": [
  {
   "cell_type": "markdown",
   "metadata": {},
   "source": [
    "# Problem Set 4 CS129.18\n",
    "\n",
    "## Requirements\n",
    "\n",
    "\n",
    ">Geospatial Analytics is a domain heavily used in corporate and business data science. It's used for demand-forecasting, real-estate prediction, population estimation, and optimal route planning..\n",
    "\n",
    "Using the lessons on DBSCAN, and the other resource notebooks, show the following in this Jupyter Notebook.\n",
    "\n",
    "Write your answers down as Markdown cells or comments in the code.\n",
    "\n",
    "1. What are the top 3 most common coffee places? ( 1pt )\n",
    "\n",
    "2. What is the latitude variance and longitude variance, and explain why these variances are different. ( 3pts )\n",
    "\n",
    "3. Explain what KMeans intertia is and how different it is from DBSCAN epsilon. ( 4pts )\n",
    "\n",
    "4. Cluster the locations data with DBSCAN. ( 5pts )\n",
    "\n",
    "5. Present an analysis of the data following the DBSCAN results. ( 7pts )\n",
    " - explain what the clusters mean\n",
    " - what does the # of clusters tell us\n",
    " - what is this information useful for\n",
    "\n",
    "\n",
    "\n",
    "\n",
    "\n",
    "-----\n",
    "\n",
    "\n",
    "Bonus 1 : What is your favorite coffee shop? (1pt)\n",
    "\n",
    "\n",
    "Bonus 2 : Run everything on your own geospatial dataset, and answer the same questions listed above. (5pts)\n",
    "Use this: https://developer.foursquare.com/docs/resources/categories\n",
    " \n",
    "----\n",
    "\n",
    "**Submit this file on Moodle on the submission link I will provide. This is due October 25 12nn.**"
   ]
  },
  {
   "cell_type": "markdown",
   "metadata": {},
   "source": [
    "# conda install -c conda-forge folium \n"
   ]
  },
  {
   "cell_type": "code",
   "execution_count": 1,
   "metadata": {},
   "outputs": [],
   "source": [
    "import numpy as np\n",
    "from sklearn.cluster import KMeans\n",
    "import folium\n",
    "from folium import plugins\n",
    "import pandas as pd\n",
    "import seaborn as sns\n",
    "import matplotlib.pyplot as plt\n",
    "\n",
    "# Make the graphs a bit prettier, and bigger\n",
    "# pd.set_option('display.mpl_style', 'default')\n",
    "plt.style.use('ggplot')\n",
    "\n",
    "# This is necessary to show lots of columns in pandas 0.12. \n",
    "# Not necessary in pandas 0.13.\n",
    "pd.set_option('display.width', 5000) \n",
    "pd.set_option('display.max_columns', 60)\n",
    "\n",
    "plt.rcParams['figure.figsize'] = (15, 5)"
   ]
  },
  {
   "cell_type": "code",
   "execution_count": 2,
   "metadata": {},
   "outputs": [],
   "source": [
    "# This assigns the coffeeshops data to a dataframe object that maps to the \"df\" variable\n",
    "df = pd.read_csv(\"data/coffeeshops.csv\")\n",
    "df = df.drop_duplicates()"
   ]
  },
  {
   "cell_type": "code",
   "execution_count": null,
   "metadata": {},
   "outputs": [],
   "source": []
  }
 ],
 "metadata": {
  "kernelspec": {
   "display_name": "Python 3",
   "language": "python",
   "name": "python3"
  },
  "language_info": {
   "codemirror_mode": {
    "name": "ipython",
    "version": 3
   },
   "file_extension": ".py",
   "mimetype": "text/x-python",
   "name": "python",
   "nbconvert_exporter": "python",
   "pygments_lexer": "ipython3",
   "version": "3.9.0"
  }
 },
 "nbformat": 4,
 "nbformat_minor": 4
}
