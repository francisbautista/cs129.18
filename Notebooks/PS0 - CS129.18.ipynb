{
 "cells": [
  {
   "cell_type": "code",
   "execution_count": 1,
   "metadata": {},
   "outputs": [],
   "source": [
    "import numpy as np\n",
    "import os\n",
    "import seaborn as sns\n",
    "from matplotlib import pyplot as plt\n",
    "import pandas as pd\n",
    "\n",
    "plt.style.use('fivethirtyeight')"
   ]
  },
  {
   "cell_type": "markdown",
   "metadata": {},
   "source": [
    "#  Python, Pandas, and Numpy Assessment\n",
    "\n",
    "---\n",
    "The following problem set will focus on the lessons on Python and basic string manipulation. Answer the following guide questions by writing functions or code in cells that accomplish the requirements.\n",
    "\n",
    "1. Write a function to check whether a string is a palindrome. (A palindrome is a string that reads the same forwards and backwards) **1 pt.**\n",
    "\n",
    "2. Write a function that checks whether a number is prime or not **1 pt.**\n",
    "\n",
    "4. Create a function that takes in 3 parameters (integer n, integer a, integer b), and generates an nxn numpy matrix with random values from the range a to b inclusive. **2 pts.**\n",
    "       \n",
    "5. Create a 5x5 identity matrix **(1pt)**\n",
    "\n",
    "6. Create a function that lists the first n prime numbers **(2pts)**\n",
    "\n",
    "7. Load `data/kpop_music_videos.csv`as a dataframe and answer the following questions:\n",
    "    - based on the MV dataset, which Kpop group is the most prolific in terms of music video releases? **2pts**\n",
    "    - which year had the most releases? **3pts**\n",
    "    - in descending order, find the top 5 months that music videos are typically released *HINT: get the monthly average and compute from there* **5pts**\n",
    "       \n",
    "8. Load `data/kpop_idols.csv` as a dataframe and answer the following questions:\n",
    "    - within the dataset, who is the oldest kpop idol? **1pt**\n",
    "    - which group, using the mean of the members' ages combined, is the oldest? **2pts**\n",
    "    - which group, using the mean of the members' ages combined, is the youngest? **2pts**\n",
    "\n",
    "9. Using the `kpop_idols.csv`and `kpop_music_videos.csv` datasets, answer the following:\n",
    "    - identify your favorite kpop group **1pt**\n",
    "    - what is the average age of the members, and show who the eldest and youngest members are **2pts**\n",
    "    - using Pandas, show a histogram/barplot of the number of music video releases they have per year **5pts**\n",
    "    \n"
   ]
  },
  {
   "cell_type": "code",
   "execution_count": null,
   "metadata": {},
   "outputs": [],
   "source": []
  }
 ],
 "metadata": {
  "kernelspec": {
   "display_name": "Python 3",
   "language": "python",
   "name": "python3"
  },
  "language_info": {
   "codemirror_mode": {
    "name": "ipython",
    "version": 3
   },
   "file_extension": ".py",
   "mimetype": "text/x-python",
   "name": "python",
   "nbconvert_exporter": "python",
   "pygments_lexer": "ipython3",
   "version": "3.9.0"
  }
 },
 "nbformat": 4,
 "nbformat_minor": 4
}
