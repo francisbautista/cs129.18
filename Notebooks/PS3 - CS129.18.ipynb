{
 "cells": [
  {
   "cell_type": "markdown",
   "metadata": {},
   "source": [
    "# Problem Set 3 CS129.18\n",
    "\n",
    "The following problem set will revolve around the Enron Emails dataset.\n",
    "The dataset `data/enron-data/` directory has 6 files. The objective is to build a classifier for whether email is spam or not.\n"
   ]
  },
  {
   "cell_type": "markdown",
   "metadata": {},
   "source": [
    "## Requirements\n",
    "\n",
    "\n",
    ">Spam or Ham?\n",
    "\n",
    "Using the lessons on Naive Bayes and TF-IDF, and the other resource notebooks, show the following in this Jupyter Notebook.\n",
    "\n",
    "Write your answers down as Markdown cells or comments in the code.\n",
    "\n",
    "**Using Enron 1 and 2**\n",
    "\n",
    "1. How many Spam Emails are there? ( 1 pt )\n",
    "\n",
    "2. Structure the email data from the 2 directories into 1 dataframe with columns: Status, Subject, Body ( 7 pts )\n",
    "\n",
    "3. Build a Naive Bayes classifier to classify whether emails are spam or not. ( 3 pts )\n",
    "\n",
    "4. What is the longest ham email? ( 1 pt )\n",
    "\n",
    "5. What is the accuracy of your model?( 1 pt )\n",
    "\n",
    "6. Include the Subject in the analysis of the emails, does the accuracy/performance of the model increase? (7 pts)\n",
    "\n",
    "\n",
    "\n",
    "-----\n",
    "\n",
    "\n",
    "Bonus : Answer questions 1-6 using Enron 1,2, and 3. (5 pts)\n",
    "\n",
    "----\n",
    "\n",
    "**Submit this file on Moodle on the submission link I will provide. This is due October 18 12nn.**"
   ]
  },
  {
   "cell_type": "code",
   "execution_count": 1,
   "metadata": {},
   "outputs": [],
   "source": [
    "%matplotlib inline\n",
    "\n",
    "import matplotlib.pylab as plt\n",
    "import numpy as np\n",
    "import pandas as pd\n",
    "import os\n",
    "import random"
   ]
  },
  {
   "cell_type": "code",
   "execution_count": 2,
   "metadata": {},
   "outputs": [
    {
     "name": "stdout",
     "output_type": "stream",
     "text": [
      "data/enron-data/enron1 ['spam', 'ham'] 2\n",
      "data/enron-data/enron1/spam [] 1499\n",
      "data/enron-data/enron1/ham [] 3672\n"
     ]
    }
   ],
   "source": [
    "rootdir = \"data/enron-data/enron1\"\n",
    "# Loop through all the directories, sub directories and files in the above folder, and print them.\n",
    "for directories, subdirs, files in os.walk(rootdir):\n",
    "    print(directories, subdirs, len(files))"
   ]
  },
  {
   "cell_type": "code",
   "execution_count": 14,
   "metadata": {},
   "outputs": [
    {
     "name": "stdout",
     "output_type": "stream",
     "text": [
      "Subject: ena sales on hpl\n",
      "just to update you on this project ' s status :\n",
      "based on a new report that scott mills ran for me from sitara , i have come up\n",
      "with the following counterparties as the ones to which ena is selling gas off\n",
      "of hpl ' s pipe .\n",
      "altrade transaction , l . l . c . gulf gas utilities company\n",
      "brazoria , city of panther pipeline , inc .\n",
      "central illinois light company praxair , inc .\n",
      "central power and light company reliant energy - entex\n",
      "ces - equistar chemicals , lp reliant energy - hl & p\n",
      "corpus christi gas marketing , lp southern union company\n",
      "d & h gas company , inc . texas utilities fuel company\n",
      "duke energy field services , inc . txu gas distribution\n",
      "entex gas marketing company union carbide corporation\n",
      "equistar chemicals , lp unit gas transmission company inc .\n",
      "since i ' m not sure exactly what gets entered into sitara , pat clynes\n",
      "suggested that i check with daren farmer to make sure that i ' m not missing\n",
      "something ( which i did below ) . while i am waiting for a response from him\n",
      "and / or mary smith , i will begin gathering the contractual volumes under the\n",
      "above contracts .\n",
      "- - - - - - - - - - - - - - - - - - - - - - forwarded by cheryl dudley / hou / ect on 05 / 10 / 2000 07 : 56\n",
      "am - - - - - - - - - - - - - - - - - - - - - - - - - - -\n",
      "cheryl d king\n",
      "05 / 08 / 2000 04 : 11 pm\n",
      "sent by : cheryl dudley\n",
      "to : daren j farmer / hou / ect @ ect , mary m smith / hou / ect @ ect\n",
      "cc :\n",
      "subject : ena sales on hpl\n",
      "i am working on a project for brenda herod & was wondering if one of you\n",
      "could tell me if i ' m on the right track & if this will get everything for\n",
      "which she is looking .\n",
      "she is trying to draft a long - term transport / storage agreement between ena &\n",
      "hplc which will allow ena to move the gas to their markets . in order to\n",
      "accomplish this , she needs to know all of the sales to customers that ena is\n",
      "doing off of hpl ' s pipe .\n",
      "i had scott mills run a report from sitara showing all ena buy / sell activity\n",
      "on hpl since 7 / 99 . if i eliminate the buys & the desk - to - desk deals , will\n",
      "this give me everything that i need ?\n",
      "are there buy / sell deals done with ena on hpl ' s pipe that wouldn ' t show up in\n",
      "sitara ? someone mentioned something about deals where hpl transports the gas\n",
      "on it ' s own behalf then ena sells it to a customer at that same spot - -\n",
      "? ? ? ? ? do deals like that happen ? would they show up in sitara ?\n",
      "is there anything else that i ' m missing ? i ' m not real familiar with how some\n",
      "of these deals happen nowadays so am very receptive to any\n",
      "ideas / suggestions / help that you can offer ! ! !\n",
      "thanks in advance .\n",
      "Subject: what up , , your cam babe\n",
      "what are you looking for ?\n",
      "if your looking for a companion for friendship , love , a date , or just good ole '\n",
      "fashioned * * * * * * , then try our brand new site ; it was developed and created\n",
      "to help anyone find what they ' re looking for . a quick bio form and you ' re\n",
      "on the road to satisfaction in every sense of the word . . . . no matter what\n",
      "that may be !\n",
      "try it out and youll be amazed .\n",
      "have a terrific time this evening\n",
      "copy and pa ste the add . ress you see on the line below into your browser to come to the site .\n",
      "http : / / www . meganbang . biz / bld / acc /\n",
      "no more plz\n",
      "http : / / www . naturalgolden . com / retract /\n",
      "counterattack aitken step preemptive shoehorn scaup . electrocardiograph movie honeycomb . monster war brandywine pietism byrne catatonia . encomia lookup intervenor skeleton turn catfish .\n",
      "\n"
     ]
    }
   ],
   "source": [
    "ham_list = []\n",
    "spam_list = []\n",
    "\n",
    "# Same as before, but this time, read the files, and append them to the ham and spam list\n",
    "for directories, subdirs, files in os.walk(rootdir):\n",
    "    if (os.path.split(directories)[1]  == 'ham'):\n",
    "        for filename in files:      \n",
    "            with open(os.path.join(directories, filename), encoding=\"latin-1\") as f:\n",
    "                data = f.read()\n",
    "                ham_list.append(data)\n",
    "    \n",
    "    if (os.path.split(directories)[1]  == 'spam'):\n",
    "        for filename in files:\n",
    "            with open(os.path.join(directories, filename), encoding=\"latin-1\") as f:\n",
    "                data = f.read()\n",
    "                spam_list.append(data)\n",
    "\n",
    "\n",
    "print(ham_list[0])\n",
    "print(spam_list[0])"
   ]
  },
  {
   "cell_type": "code",
   "execution_count": null,
   "metadata": {},
   "outputs": [],
   "source": []
  }
 ],
 "metadata": {
  "kernelspec": {
   "display_name": "Python 3",
   "language": "python",
   "name": "python3"
  },
  "language_info": {
   "codemirror_mode": {
    "name": "ipython",
    "version": 3
   },
   "file_extension": ".py",
   "mimetype": "text/x-python",
   "name": "python",
   "nbconvert_exporter": "python",
   "pygments_lexer": "ipython3",
   "version": "3.9.0"
  }
 },
 "nbformat": 4,
 "nbformat_minor": 4
}
